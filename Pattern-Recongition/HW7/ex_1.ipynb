{
  "nbformat": 4,
  "nbformat_minor": 0,
  "metadata": {
    "colab": {
      "name": "ex_1.ipynb",
      "provenance": [],
      "collapsed_sections": []
    },
    "kernelspec": {
      "name": "python3",
      "display_name": "Python 3"
    }
  },
  "cells": [
    {
      "cell_type": "markdown",
      "metadata": {
        "id": "lV1ol9MWrA4G"
      },
      "source": [
        "In the modern sense, the perceptron is an algorithm for learning a binary classifier called a threshold function: a function that maps its input x to an output value f(x) (a single binary value):\r\n",
        "![Εικόνα1.png](data:image/png;base64,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)\r\n",
        "where w  is a vector of real-valued weights, and w*x is the dot product. The bias shifts the decision boundary away from the origin and does not depend on any input value.\r\n",
        "\r\n",
        "The value of f(x) is used to classify x  as either a positive or a negative instance, in the case of a binary classification problem. If b is negative, then the weighted combination of inputs must produce a positive value greater than |b| in order to push the classifier neuron over the 0 threshold. Spatially, the bias alters the position (though not the orientation) of the decision boundary. The perceptron learning algorithm does not terminate if the learning set is not linearly separable. If the vectors are not linearly separable learning will never reach a point where all vectors are classified properly.\r\n",
        "\r\n",
        "> In this exercise the step activation function was used.In this fuction if the value in the neuron is bigger than 1 then the neuron is activated and it's output is set to 1 else its not activated and it's output is set to 0.\r\n",
        "\r\n"
      ]
    },
    {
      "cell_type": "code",
      "metadata": {
        "id": "160YIWK03n-b"
      },
      "source": [
        "import numpy as np\r\n",
        "\r\n",
        "class Perceptron(object):\r\n",
        "\r\n",
        "    def __init__(self, no_of_inputs, threshold=5, learning_rate=0.1):\r\n",
        "        self.threshold = threshold\r\n",
        "        self.learning_rate = learning_rate\r\n",
        "        self.weights = np.ones(no_of_inputs + 1)\r\n",
        "        self.prediction=np.ones(6)\r\n",
        "    def predict(self, inputs):\r\n",
        "        summation = np.dot(inputs, self.weights[1:]) + self.weights[0]\r\n",
        "        if summation > 0:\r\n",
        "          activation = 1\r\n",
        "        else:\r\n",
        "          activation = 0            \r\n",
        "        return activation\r\n",
        "\r\n",
        "    def train(self, training_inputs, labels):\r\n",
        "        for iterator in range(self.threshold):\r\n",
        "            i=0\r\n",
        "            for inputs, label in zip(training_inputs, labels):\r\n",
        "                \r\n",
        "                self.prediction[i] = self.predict(inputs)\r\n",
        "                self.weights[1:] += self.learning_rate * (label - self.prediction[i]) * inputs\r\n",
        "                self.weights[0] += self.learning_rate * (label - self.prediction[i])\r\n",
        "                i=i+1\r\n",
        "                \r\n",
        "            \r\n",
        "    "
      ],
      "execution_count": 1,
      "outputs": []
    },
    {
      "cell_type": "code",
      "metadata": {
        "colab": {
          "base_uri": "https://localhost:8080/",
          "height": 358
        },
        "id": "9xvMaG8v97q9",
        "outputId": "b6b30dcf-18da-434d-9dd8-95c956221bd6"
      },
      "source": [
        "import numpy as np\r\n",
        "\r\n",
        "from sklearn.model_selection import train_test_split\r\n",
        "from sklearn import datasets\r\n",
        "import matplotlib.pyplot as plt\r\n",
        "\r\n",
        "\r\n",
        "\r\n",
        "\r\n",
        "training_inputs = []\r\n",
        "training_inputs.append(np.array([-2, 1]))\r\n",
        "training_inputs.append(np.array([1, 2]))\r\n",
        "training_inputs.append(np.array([0, 0]))\r\n",
        "training_inputs.append(np.array([-2, -1]))\r\n",
        "training_inputs.append(np.array([2, 0]))\r\n",
        "training_inputs.append(np.array([2, 1]))\r\n",
        "\r\n",
        "labels = np.array([1, 1, 0, 0,0,0])\r\n",
        "#We instantiate a new perceptron, only passing in the argument 2 therefore allowing for the default threshold=100 and learning_rate=0.01\r\n",
        "perceptron = Perceptron(2)\r\n",
        "perceptron.train(training_inputs, labels)\r\n",
        "\r\n",
        "\r\n",
        "\r\n",
        "fig = plt.figure()\r\n",
        "ax = fig.add_subplot(1,1,1)\r\n",
        "\r\n",
        "print(perceptron.prediction)\r\n",
        "print(\"the weights are :\")\r\n",
        "print(\"the weight w0 is :\",perceptron.weights[0])\r\n",
        "print(\"the weight w1 is :\",perceptron.weights[1])\r\n",
        "print(\"the weight w2 is :\",perceptron.weights[2])\r\n",
        "training_inp0=[row[0] for row in training_inputs]\r\n",
        "training_inp1=[row[1] for row in training_inputs]\r\n",
        "\r\n",
        "plt.scatter(training_inp0,training_inp1,marker='o',c=labels)\r\n",
        "\r\n",
        "x0_1 = np.amin(training_inp0)\r\n",
        "x0_2 = np.amax(training_inp0)\r\n",
        "\r\n",
        "x1_1 = (-perceptron.weights[1] * x0_1 - perceptron.weights[0]) / perceptron.weights[2]\r\n",
        "x1_2 = (-perceptron.weights[1] * x0_2 - perceptron.weights[0]) / perceptron.weights[2]\r\n",
        "\r\n",
        "ax.plot([x0_1, x0_2],[x1_1, x1_2], 'k',linewidth=1)\r\n",
        "\r\n",
        "ymin = np.amin(training_inp1)\r\n",
        "ymax = np.amax(training_inp1)\r\n",
        "ax.set_ylim([ymin-4,ymax+4])\r\n",
        "\r\n",
        "plt.show()\r\n"
      ],
      "execution_count": 2,
      "outputs": [
        {
          "output_type": "stream",
          "text": [
            "[1. 1. 0. 0. 0. 0.]\n",
            "the weights are :\n",
            "the weight w0 is : -0.09999999999999987\n",
            "the weight w1 is : -0.39999999999999997\n",
            "the weight w2 is : 0.8\n"
          ],
          "name": "stdout"
        },
        {
          "output_type": "display_data",
          "data": {
            "image/png": "[encoded data removed]",
            "text/plain": [
              "<Figure size 432x288 with 1 Axes>"
            ]
          },
          "metadata": {
            "tags": [],
            "needs_background": "light"
          }
        }
      ]
    },
    {
      "cell_type": "markdown",
      "metadata": {
        "id": "uiMXHHIMsksu"
      },
      "source": [
        "After 5 iterations with learning_rate=0.1 our model has successfully classified all the samples (see the plot above).<br>The weights are:<br>the weight w0 is : -0.09999999999999987<br>\r\n",
        "the weight w1 is : -0.39999999999999997<br>\r\n",
        "the weight w2 is : 0.8"
      ]
    }
  ]
}